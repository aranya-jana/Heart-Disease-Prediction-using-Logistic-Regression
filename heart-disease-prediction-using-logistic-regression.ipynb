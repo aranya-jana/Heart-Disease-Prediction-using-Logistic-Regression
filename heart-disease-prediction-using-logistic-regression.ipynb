{
 "cells": [
  {
   "cell_type": "code",
   "execution_count": 1,
   "id": "6ec390c2",
   "metadata": {
    "_cell_guid": "b1076dfc-b9ad-4769-8c92-a6c4dae69d19",
    "_uuid": "8f2839f25d086af736a60e9eeb907d3b93b6e0e5",
    "execution": {
     "iopub.execute_input": "2024-06-25T14:35:32.823037Z",
     "iopub.status.busy": "2024-06-25T14:35:32.822620Z",
     "iopub.status.idle": "2024-06-25T14:35:33.681190Z",
     "shell.execute_reply": "2024-06-25T14:35:33.680129Z"
    },
    "papermill": {
     "duration": 0.871566,
     "end_time": "2024-06-25T14:35:33.683773",
     "exception": false,
     "start_time": "2024-06-25T14:35:32.812207",
     "status": "completed"
    },
    "tags": []
   },
   "outputs": [
    {
     "name": "stdout",
     "output_type": "stream",
     "text": [
      "/kaggle/input/heart-disease-prediction/Heart_Disease_Prediction.csv\n"
     ]
    }
   ],
   "source": [
    "# This Python 3 environment comes with many helpful analytics libraries installed\n",
    "# It is defined by the kaggle/python Docker image: https://github.com/kaggle/docker-python\n",
    "# For example, here's several helpful packages to load\n",
    "\n",
    "import numpy as np # linear algebra\n",
    "import pandas as pd # data processing, CSV file I/O (e.g. pd.read_csv)\n",
    "\n",
    "# Input data files are available in the read-only \"../input/\" directory\n",
    "# For example, running this (by clicking run or pressing Shift+Enter) will list all files under the input directory\n",
    "\n",
    "import os\n",
    "for dirname, _, filenames in os.walk('/kaggle/input'):\n",
    "    for filename in filenames:\n",
    "        print(os.path.join(dirname, filename))\n",
    "\n",
    "# You can write up to 20GB to the current directory (/kaggle/working/) that gets preserved as output when you create a version using \"Save & Run All\" \n",
    "# You can also write temporary files to /kaggle/temp/, but they won't be saved outside of the current session"
   ]
  },
  {
   "cell_type": "markdown",
   "id": "cf5ebdb4",
   "metadata": {
    "papermill": {
     "duration": 0.007571,
     "end_time": "2024-06-25T14:35:33.699272",
     "exception": false,
     "start_time": "2024-06-25T14:35:33.691701",
     "status": "completed"
    },
    "tags": []
   },
   "source": [
    "**At first read the CSV file(data)**"
   ]
  },
  {
   "cell_type": "code",
   "execution_count": 2,
   "id": "3dee66d0",
   "metadata": {
    "execution": {
     "iopub.execute_input": "2024-06-25T14:35:33.716583Z",
     "iopub.status.busy": "2024-06-25T14:35:33.716082Z",
     "iopub.status.idle": "2024-06-25T14:35:33.764468Z",
     "shell.execute_reply": "2024-06-25T14:35:33.763296Z"
    },
    "papermill": {
     "duration": 0.059849,
     "end_time": "2024-06-25T14:35:33.766857",
     "exception": false,
     "start_time": "2024-06-25T14:35:33.707008",
     "status": "completed"
    },
    "tags": []
   },
   "outputs": [
    {
     "data": {
      "text/html": [
       "<div>\n",
       "<style scoped>\n",
       "    .dataframe tbody tr th:only-of-type {\n",
       "        vertical-align: middle;\n",
       "    }\n",
       "\n",
       "    .dataframe tbody tr th {\n",
       "        vertical-align: top;\n",
       "    }\n",
       "\n",
       "    .dataframe thead th {\n",
       "        text-align: right;\n",
       "    }\n",
       "</style>\n",
       "<table border=\"1\" class=\"dataframe\">\n",
       "  <thead>\n",
       "    <tr style=\"text-align: right;\">\n",
       "      <th></th>\n",
       "      <th>Age</th>\n",
       "      <th>Sex</th>\n",
       "      <th>Chest pain type</th>\n",
       "      <th>BP</th>\n",
       "      <th>Cholesterol</th>\n",
       "      <th>FBS over 120</th>\n",
       "      <th>EKG results</th>\n",
       "      <th>Max HR</th>\n",
       "      <th>Exercise angina</th>\n",
       "      <th>ST depression</th>\n",
       "      <th>Slope of ST</th>\n",
       "      <th>Number of vessels fluro</th>\n",
       "      <th>Thallium</th>\n",
       "      <th>Heart Disease</th>\n",
       "    </tr>\n",
       "  </thead>\n",
       "  <tbody>\n",
       "    <tr>\n",
       "      <th>0</th>\n",
       "      <td>70</td>\n",
       "      <td>1</td>\n",
       "      <td>4</td>\n",
       "      <td>130</td>\n",
       "      <td>322</td>\n",
       "      <td>0</td>\n",
       "      <td>2</td>\n",
       "      <td>109</td>\n",
       "      <td>0</td>\n",
       "      <td>2.4</td>\n",
       "      <td>2</td>\n",
       "      <td>3</td>\n",
       "      <td>3</td>\n",
       "      <td>Presence</td>\n",
       "    </tr>\n",
       "    <tr>\n",
       "      <th>1</th>\n",
       "      <td>67</td>\n",
       "      <td>0</td>\n",
       "      <td>3</td>\n",
       "      <td>115</td>\n",
       "      <td>564</td>\n",
       "      <td>0</td>\n",
       "      <td>2</td>\n",
       "      <td>160</td>\n",
       "      <td>0</td>\n",
       "      <td>1.6</td>\n",
       "      <td>2</td>\n",
       "      <td>0</td>\n",
       "      <td>7</td>\n",
       "      <td>Absence</td>\n",
       "    </tr>\n",
       "    <tr>\n",
       "      <th>2</th>\n",
       "      <td>57</td>\n",
       "      <td>1</td>\n",
       "      <td>2</td>\n",
       "      <td>124</td>\n",
       "      <td>261</td>\n",
       "      <td>0</td>\n",
       "      <td>0</td>\n",
       "      <td>141</td>\n",
       "      <td>0</td>\n",
       "      <td>0.3</td>\n",
       "      <td>1</td>\n",
       "      <td>0</td>\n",
       "      <td>7</td>\n",
       "      <td>Presence</td>\n",
       "    </tr>\n",
       "    <tr>\n",
       "      <th>3</th>\n",
       "      <td>64</td>\n",
       "      <td>1</td>\n",
       "      <td>4</td>\n",
       "      <td>128</td>\n",
       "      <td>263</td>\n",
       "      <td>0</td>\n",
       "      <td>0</td>\n",
       "      <td>105</td>\n",
       "      <td>1</td>\n",
       "      <td>0.2</td>\n",
       "      <td>2</td>\n",
       "      <td>1</td>\n",
       "      <td>7</td>\n",
       "      <td>Absence</td>\n",
       "    </tr>\n",
       "    <tr>\n",
       "      <th>4</th>\n",
       "      <td>74</td>\n",
       "      <td>0</td>\n",
       "      <td>2</td>\n",
       "      <td>120</td>\n",
       "      <td>269</td>\n",
       "      <td>0</td>\n",
       "      <td>2</td>\n",
       "      <td>121</td>\n",
       "      <td>1</td>\n",
       "      <td>0.2</td>\n",
       "      <td>1</td>\n",
       "      <td>1</td>\n",
       "      <td>3</td>\n",
       "      <td>Absence</td>\n",
       "    </tr>\n",
       "    <tr>\n",
       "      <th>...</th>\n",
       "      <td>...</td>\n",
       "      <td>...</td>\n",
       "      <td>...</td>\n",
       "      <td>...</td>\n",
       "      <td>...</td>\n",
       "      <td>...</td>\n",
       "      <td>...</td>\n",
       "      <td>...</td>\n",
       "      <td>...</td>\n",
       "      <td>...</td>\n",
       "      <td>...</td>\n",
       "      <td>...</td>\n",
       "      <td>...</td>\n",
       "      <td>...</td>\n",
       "    </tr>\n",
       "    <tr>\n",
       "      <th>265</th>\n",
       "      <td>52</td>\n",
       "      <td>1</td>\n",
       "      <td>3</td>\n",
       "      <td>172</td>\n",
       "      <td>199</td>\n",
       "      <td>1</td>\n",
       "      <td>0</td>\n",
       "      <td>162</td>\n",
       "      <td>0</td>\n",
       "      <td>0.5</td>\n",
       "      <td>1</td>\n",
       "      <td>0</td>\n",
       "      <td>7</td>\n",
       "      <td>Absence</td>\n",
       "    </tr>\n",
       "    <tr>\n",
       "      <th>266</th>\n",
       "      <td>44</td>\n",
       "      <td>1</td>\n",
       "      <td>2</td>\n",
       "      <td>120</td>\n",
       "      <td>263</td>\n",
       "      <td>0</td>\n",
       "      <td>0</td>\n",
       "      <td>173</td>\n",
       "      <td>0</td>\n",
       "      <td>0.0</td>\n",
       "      <td>1</td>\n",
       "      <td>0</td>\n",
       "      <td>7</td>\n",
       "      <td>Absence</td>\n",
       "    </tr>\n",
       "    <tr>\n",
       "      <th>267</th>\n",
       "      <td>56</td>\n",
       "      <td>0</td>\n",
       "      <td>2</td>\n",
       "      <td>140</td>\n",
       "      <td>294</td>\n",
       "      <td>0</td>\n",
       "      <td>2</td>\n",
       "      <td>153</td>\n",
       "      <td>0</td>\n",
       "      <td>1.3</td>\n",
       "      <td>2</td>\n",
       "      <td>0</td>\n",
       "      <td>3</td>\n",
       "      <td>Absence</td>\n",
       "    </tr>\n",
       "    <tr>\n",
       "      <th>268</th>\n",
       "      <td>57</td>\n",
       "      <td>1</td>\n",
       "      <td>4</td>\n",
       "      <td>140</td>\n",
       "      <td>192</td>\n",
       "      <td>0</td>\n",
       "      <td>0</td>\n",
       "      <td>148</td>\n",
       "      <td>0</td>\n",
       "      <td>0.4</td>\n",
       "      <td>2</td>\n",
       "      <td>0</td>\n",
       "      <td>6</td>\n",
       "      <td>Absence</td>\n",
       "    </tr>\n",
       "    <tr>\n",
       "      <th>269</th>\n",
       "      <td>67</td>\n",
       "      <td>1</td>\n",
       "      <td>4</td>\n",
       "      <td>160</td>\n",
       "      <td>286</td>\n",
       "      <td>0</td>\n",
       "      <td>2</td>\n",
       "      <td>108</td>\n",
       "      <td>1</td>\n",
       "      <td>1.5</td>\n",
       "      <td>2</td>\n",
       "      <td>3</td>\n",
       "      <td>3</td>\n",
       "      <td>Presence</td>\n",
       "    </tr>\n",
       "  </tbody>\n",
       "</table>\n",
       "<p>270 rows × 14 columns</p>\n",
       "</div>"
      ],
      "text/plain": [
       "     Age  Sex  Chest pain type   BP  Cholesterol  FBS over 120  EKG results  \\\n",
       "0     70    1                4  130          322             0            2   \n",
       "1     67    0                3  115          564             0            2   \n",
       "2     57    1                2  124          261             0            0   \n",
       "3     64    1                4  128          263             0            0   \n",
       "4     74    0                2  120          269             0            2   \n",
       "..   ...  ...              ...  ...          ...           ...          ...   \n",
       "265   52    1                3  172          199             1            0   \n",
       "266   44    1                2  120          263             0            0   \n",
       "267   56    0                2  140          294             0            2   \n",
       "268   57    1                4  140          192             0            0   \n",
       "269   67    1                4  160          286             0            2   \n",
       "\n",
       "     Max HR  Exercise angina  ST depression  Slope of ST  \\\n",
       "0       109                0            2.4            2   \n",
       "1       160                0            1.6            2   \n",
       "2       141                0            0.3            1   \n",
       "3       105                1            0.2            2   \n",
       "4       121                1            0.2            1   \n",
       "..      ...              ...            ...          ...   \n",
       "265     162                0            0.5            1   \n",
       "266     173                0            0.0            1   \n",
       "267     153                0            1.3            2   \n",
       "268     148                0            0.4            2   \n",
       "269     108                1            1.5            2   \n",
       "\n",
       "     Number of vessels fluro  Thallium Heart Disease  \n",
       "0                          3         3      Presence  \n",
       "1                          0         7       Absence  \n",
       "2                          0         7      Presence  \n",
       "3                          1         7       Absence  \n",
       "4                          1         3       Absence  \n",
       "..                       ...       ...           ...  \n",
       "265                        0         7       Absence  \n",
       "266                        0         7       Absence  \n",
       "267                        0         3       Absence  \n",
       "268                        0         6       Absence  \n",
       "269                        3         3      Presence  \n",
       "\n",
       "[270 rows x 14 columns]"
      ]
     },
     "execution_count": 2,
     "metadata": {},
     "output_type": "execute_result"
    }
   ],
   "source": [
    "df=pd.read_csv(\"/kaggle/input/heart-disease-prediction/Heart_Disease_Prediction.csv\")\n",
    "df"
   ]
  },
  {
   "cell_type": "markdown",
   "id": "716879a1",
   "metadata": {
    "papermill": {
     "duration": 0.008127,
     "end_time": "2024-06-25T14:35:33.783335",
     "exception": false,
     "start_time": "2024-06-25T14:35:33.775208",
     "status": "completed"
    },
    "tags": []
   },
   "source": [
    "**Separating the features and target variable from the dataframe**"
   ]
  },
  {
   "cell_type": "code",
   "execution_count": 3,
   "id": "d5cbcd87",
   "metadata": {
    "execution": {
     "iopub.execute_input": "2024-06-25T14:35:33.801431Z",
     "iopub.status.busy": "2024-06-25T14:35:33.801049Z",
     "iopub.status.idle": "2024-06-25T14:35:33.809382Z",
     "shell.execute_reply": "2024-06-25T14:35:33.808341Z"
    },
    "papermill": {
     "duration": 0.020151,
     "end_time": "2024-06-25T14:35:33.811617",
     "exception": false,
     "start_time": "2024-06-25T14:35:33.791466",
     "status": "completed"
    },
    "tags": []
   },
   "outputs": [],
   "source": [
    "X = df.drop('Heart Disease', axis=1)  # Features\n",
    "Y = df['Heart Disease']               # Target"
   ]
  },
  {
   "cell_type": "markdown",
   "id": "762e2582",
   "metadata": {
    "papermill": {
     "duration": 0.007933,
     "end_time": "2024-06-25T14:35:33.828014",
     "exception": false,
     "start_time": "2024-06-25T14:35:33.820081",
     "status": "completed"
    },
    "tags": []
   },
   "source": [
    "**Displaying the information of the DataFrame**"
   ]
  },
  {
   "cell_type": "code",
   "execution_count": 4,
   "id": "1069e55b",
   "metadata": {
    "execution": {
     "iopub.execute_input": "2024-06-25T14:35:33.845701Z",
     "iopub.status.busy": "2024-06-25T14:35:33.845330Z",
     "iopub.status.idle": "2024-06-25T14:35:33.866848Z",
     "shell.execute_reply": "2024-06-25T14:35:33.865425Z"
    },
    "papermill": {
     "duration": 0.033085,
     "end_time": "2024-06-25T14:35:33.869148",
     "exception": false,
     "start_time": "2024-06-25T14:35:33.836063",
     "status": "completed"
    },
    "tags": []
   },
   "outputs": [
    {
     "name": "stdout",
     "output_type": "stream",
     "text": [
      "<class 'pandas.core.frame.DataFrame'>\n",
      "RangeIndex: 270 entries, 0 to 269\n",
      "Data columns (total 14 columns):\n",
      " #   Column                   Non-Null Count  Dtype  \n",
      "---  ------                   --------------  -----  \n",
      " 0   Age                      270 non-null    int64  \n",
      " 1   Sex                      270 non-null    int64  \n",
      " 2   Chest pain type          270 non-null    int64  \n",
      " 3   BP                       270 non-null    int64  \n",
      " 4   Cholesterol              270 non-null    int64  \n",
      " 5   FBS over 120             270 non-null    int64  \n",
      " 6   EKG results              270 non-null    int64  \n",
      " 7   Max HR                   270 non-null    int64  \n",
      " 8   Exercise angina          270 non-null    int64  \n",
      " 9   ST depression            270 non-null    float64\n",
      " 10  Slope of ST              270 non-null    int64  \n",
      " 11  Number of vessels fluro  270 non-null    int64  \n",
      " 12  Thallium                 270 non-null    int64  \n",
      " 13  Heart Disease            270 non-null    object \n",
      "dtypes: float64(1), int64(12), object(1)\n",
      "memory usage: 29.7+ KB\n"
     ]
    }
   ],
   "source": [
    "df.info()"
   ]
  },
  {
   "cell_type": "markdown",
   "id": "fa761df2",
   "metadata": {
    "papermill": {
     "duration": 0.008449,
     "end_time": "2024-06-25T14:35:33.886048",
     "exception": false,
     "start_time": "2024-06-25T14:35:33.877599",
     "status": "completed"
    },
    "tags": []
   },
   "source": []
  },
  {
   "cell_type": "markdown",
   "id": "e43a6fec",
   "metadata": {
    "papermill": {
     "duration": 0.008309,
     "end_time": "2024-06-25T14:35:33.902747",
     "exception": false,
     "start_time": "2024-06-25T14:35:33.894438",
     "status": "completed"
    },
    "tags": []
   },
   "source": [
    "**Replacing 'Presence' with 1 and 'Absence' with 0 in the 'Heart Disease' column**"
   ]
  },
  {
   "cell_type": "code",
   "execution_count": 5,
   "id": "cff9e1e0",
   "metadata": {
    "execution": {
     "iopub.execute_input": "2024-06-25T14:35:33.922119Z",
     "iopub.status.busy": "2024-06-25T14:35:33.921372Z",
     "iopub.status.idle": "2024-06-25T14:35:33.942610Z",
     "shell.execute_reply": "2024-06-25T14:35:33.941557Z"
    },
    "papermill": {
     "duration": 0.033923,
     "end_time": "2024-06-25T14:35:33.945295",
     "exception": false,
     "start_time": "2024-06-25T14:35:33.911372",
     "status": "completed"
    },
    "tags": []
   },
   "outputs": [
    {
     "name": "stderr",
     "output_type": "stream",
     "text": [
      "/tmp/ipykernel_18/3305477354.py:1: FutureWarning: Downcasting behavior in `replace` is deprecated and will be removed in a future version. To retain the old behavior, explicitly call `result.infer_objects(copy=False)`. To opt-in to the future behavior, set `pd.set_option('future.no_silent_downcasting', True)`\n",
      "  df['Heart Disease'] = df['Heart Disease'].replace({'Presence': 1, 'Absence': 0})\n"
     ]
    },
    {
     "data": {
      "text/html": [
       "<div>\n",
       "<style scoped>\n",
       "    .dataframe tbody tr th:only-of-type {\n",
       "        vertical-align: middle;\n",
       "    }\n",
       "\n",
       "    .dataframe tbody tr th {\n",
       "        vertical-align: top;\n",
       "    }\n",
       "\n",
       "    .dataframe thead th {\n",
       "        text-align: right;\n",
       "    }\n",
       "</style>\n",
       "<table border=\"1\" class=\"dataframe\">\n",
       "  <thead>\n",
       "    <tr style=\"text-align: right;\">\n",
       "      <th></th>\n",
       "      <th>Age</th>\n",
       "      <th>Sex</th>\n",
       "      <th>Chest pain type</th>\n",
       "      <th>BP</th>\n",
       "      <th>Cholesterol</th>\n",
       "      <th>FBS over 120</th>\n",
       "      <th>EKG results</th>\n",
       "      <th>Max HR</th>\n",
       "      <th>Exercise angina</th>\n",
       "      <th>ST depression</th>\n",
       "      <th>Slope of ST</th>\n",
       "      <th>Number of vessels fluro</th>\n",
       "      <th>Thallium</th>\n",
       "      <th>Heart Disease</th>\n",
       "    </tr>\n",
       "  </thead>\n",
       "  <tbody>\n",
       "    <tr>\n",
       "      <th>0</th>\n",
       "      <td>70</td>\n",
       "      <td>1</td>\n",
       "      <td>4</td>\n",
       "      <td>130</td>\n",
       "      <td>322</td>\n",
       "      <td>0</td>\n",
       "      <td>2</td>\n",
       "      <td>109</td>\n",
       "      <td>0</td>\n",
       "      <td>2.4</td>\n",
       "      <td>2</td>\n",
       "      <td>3</td>\n",
       "      <td>3</td>\n",
       "      <td>1</td>\n",
       "    </tr>\n",
       "    <tr>\n",
       "      <th>1</th>\n",
       "      <td>67</td>\n",
       "      <td>0</td>\n",
       "      <td>3</td>\n",
       "      <td>115</td>\n",
       "      <td>564</td>\n",
       "      <td>0</td>\n",
       "      <td>2</td>\n",
       "      <td>160</td>\n",
       "      <td>0</td>\n",
       "      <td>1.6</td>\n",
       "      <td>2</td>\n",
       "      <td>0</td>\n",
       "      <td>7</td>\n",
       "      <td>0</td>\n",
       "    </tr>\n",
       "    <tr>\n",
       "      <th>2</th>\n",
       "      <td>57</td>\n",
       "      <td>1</td>\n",
       "      <td>2</td>\n",
       "      <td>124</td>\n",
       "      <td>261</td>\n",
       "      <td>0</td>\n",
       "      <td>0</td>\n",
       "      <td>141</td>\n",
       "      <td>0</td>\n",
       "      <td>0.3</td>\n",
       "      <td>1</td>\n",
       "      <td>0</td>\n",
       "      <td>7</td>\n",
       "      <td>1</td>\n",
       "    </tr>\n",
       "    <tr>\n",
       "      <th>3</th>\n",
       "      <td>64</td>\n",
       "      <td>1</td>\n",
       "      <td>4</td>\n",
       "      <td>128</td>\n",
       "      <td>263</td>\n",
       "      <td>0</td>\n",
       "      <td>0</td>\n",
       "      <td>105</td>\n",
       "      <td>1</td>\n",
       "      <td>0.2</td>\n",
       "      <td>2</td>\n",
       "      <td>1</td>\n",
       "      <td>7</td>\n",
       "      <td>0</td>\n",
       "    </tr>\n",
       "    <tr>\n",
       "      <th>4</th>\n",
       "      <td>74</td>\n",
       "      <td>0</td>\n",
       "      <td>2</td>\n",
       "      <td>120</td>\n",
       "      <td>269</td>\n",
       "      <td>0</td>\n",
       "      <td>2</td>\n",
       "      <td>121</td>\n",
       "      <td>1</td>\n",
       "      <td>0.2</td>\n",
       "      <td>1</td>\n",
       "      <td>1</td>\n",
       "      <td>3</td>\n",
       "      <td>0</td>\n",
       "    </tr>\n",
       "    <tr>\n",
       "      <th>...</th>\n",
       "      <td>...</td>\n",
       "      <td>...</td>\n",
       "      <td>...</td>\n",
       "      <td>...</td>\n",
       "      <td>...</td>\n",
       "      <td>...</td>\n",
       "      <td>...</td>\n",
       "      <td>...</td>\n",
       "      <td>...</td>\n",
       "      <td>...</td>\n",
       "      <td>...</td>\n",
       "      <td>...</td>\n",
       "      <td>...</td>\n",
       "      <td>...</td>\n",
       "    </tr>\n",
       "    <tr>\n",
       "      <th>265</th>\n",
       "      <td>52</td>\n",
       "      <td>1</td>\n",
       "      <td>3</td>\n",
       "      <td>172</td>\n",
       "      <td>199</td>\n",
       "      <td>1</td>\n",
       "      <td>0</td>\n",
       "      <td>162</td>\n",
       "      <td>0</td>\n",
       "      <td>0.5</td>\n",
       "      <td>1</td>\n",
       "      <td>0</td>\n",
       "      <td>7</td>\n",
       "      <td>0</td>\n",
       "    </tr>\n",
       "    <tr>\n",
       "      <th>266</th>\n",
       "      <td>44</td>\n",
       "      <td>1</td>\n",
       "      <td>2</td>\n",
       "      <td>120</td>\n",
       "      <td>263</td>\n",
       "      <td>0</td>\n",
       "      <td>0</td>\n",
       "      <td>173</td>\n",
       "      <td>0</td>\n",
       "      <td>0.0</td>\n",
       "      <td>1</td>\n",
       "      <td>0</td>\n",
       "      <td>7</td>\n",
       "      <td>0</td>\n",
       "    </tr>\n",
       "    <tr>\n",
       "      <th>267</th>\n",
       "      <td>56</td>\n",
       "      <td>0</td>\n",
       "      <td>2</td>\n",
       "      <td>140</td>\n",
       "      <td>294</td>\n",
       "      <td>0</td>\n",
       "      <td>2</td>\n",
       "      <td>153</td>\n",
       "      <td>0</td>\n",
       "      <td>1.3</td>\n",
       "      <td>2</td>\n",
       "      <td>0</td>\n",
       "      <td>3</td>\n",
       "      <td>0</td>\n",
       "    </tr>\n",
       "    <tr>\n",
       "      <th>268</th>\n",
       "      <td>57</td>\n",
       "      <td>1</td>\n",
       "      <td>4</td>\n",
       "      <td>140</td>\n",
       "      <td>192</td>\n",
       "      <td>0</td>\n",
       "      <td>0</td>\n",
       "      <td>148</td>\n",
       "      <td>0</td>\n",
       "      <td>0.4</td>\n",
       "      <td>2</td>\n",
       "      <td>0</td>\n",
       "      <td>6</td>\n",
       "      <td>0</td>\n",
       "    </tr>\n",
       "    <tr>\n",
       "      <th>269</th>\n",
       "      <td>67</td>\n",
       "      <td>1</td>\n",
       "      <td>4</td>\n",
       "      <td>160</td>\n",
       "      <td>286</td>\n",
       "      <td>0</td>\n",
       "      <td>2</td>\n",
       "      <td>108</td>\n",
       "      <td>1</td>\n",
       "      <td>1.5</td>\n",
       "      <td>2</td>\n",
       "      <td>3</td>\n",
       "      <td>3</td>\n",
       "      <td>1</td>\n",
       "    </tr>\n",
       "  </tbody>\n",
       "</table>\n",
       "<p>270 rows × 14 columns</p>\n",
       "</div>"
      ],
      "text/plain": [
       "     Age  Sex  Chest pain type   BP  Cholesterol  FBS over 120  EKG results  \\\n",
       "0     70    1                4  130          322             0            2   \n",
       "1     67    0                3  115          564             0            2   \n",
       "2     57    1                2  124          261             0            0   \n",
       "3     64    1                4  128          263             0            0   \n",
       "4     74    0                2  120          269             0            2   \n",
       "..   ...  ...              ...  ...          ...           ...          ...   \n",
       "265   52    1                3  172          199             1            0   \n",
       "266   44    1                2  120          263             0            0   \n",
       "267   56    0                2  140          294             0            2   \n",
       "268   57    1                4  140          192             0            0   \n",
       "269   67    1                4  160          286             0            2   \n",
       "\n",
       "     Max HR  Exercise angina  ST depression  Slope of ST  \\\n",
       "0       109                0            2.4            2   \n",
       "1       160                0            1.6            2   \n",
       "2       141                0            0.3            1   \n",
       "3       105                1            0.2            2   \n",
       "4       121                1            0.2            1   \n",
       "..      ...              ...            ...          ...   \n",
       "265     162                0            0.5            1   \n",
       "266     173                0            0.0            1   \n",
       "267     153                0            1.3            2   \n",
       "268     148                0            0.4            2   \n",
       "269     108                1            1.5            2   \n",
       "\n",
       "     Number of vessels fluro  Thallium  Heart Disease  \n",
       "0                          3         3              1  \n",
       "1                          0         7              0  \n",
       "2                          0         7              1  \n",
       "3                          1         7              0  \n",
       "4                          1         3              0  \n",
       "..                       ...       ...            ...  \n",
       "265                        0         7              0  \n",
       "266                        0         7              0  \n",
       "267                        0         3              0  \n",
       "268                        0         6              0  \n",
       "269                        3         3              1  \n",
       "\n",
       "[270 rows x 14 columns]"
      ]
     },
     "execution_count": 5,
     "metadata": {},
     "output_type": "execute_result"
    }
   ],
   "source": [
    "df['Heart Disease'] = df['Heart Disease'].replace({'Presence': 1, 'Absence': 0})\n",
    "df"
   ]
  },
  {
   "cell_type": "markdown",
   "id": "92d5001a",
   "metadata": {
    "papermill": {
     "duration": 0.008777,
     "end_time": "2024-06-25T14:35:33.963277",
     "exception": false,
     "start_time": "2024-06-25T14:35:33.954500",
     "status": "completed"
    },
    "tags": []
   },
   "source": [
    "**Grouping the DataFrame by 'Heart Disease' and calculating the mean of each group(SPLIT)**"
   ]
  },
  {
   "cell_type": "code",
   "execution_count": 6,
   "id": "8a6f9d74",
   "metadata": {
    "execution": {
     "iopub.execute_input": "2024-06-25T14:35:33.983397Z",
     "iopub.status.busy": "2024-06-25T14:35:33.982373Z",
     "iopub.status.idle": "2024-06-25T14:35:34.004511Z",
     "shell.execute_reply": "2024-06-25T14:35:34.003523Z"
    },
    "papermill": {
     "duration": 0.034701,
     "end_time": "2024-06-25T14:35:34.006951",
     "exception": false,
     "start_time": "2024-06-25T14:35:33.972250",
     "status": "completed"
    },
    "tags": []
   },
   "outputs": [
    {
     "data": {
      "text/html": [
       "<div>\n",
       "<style scoped>\n",
       "    .dataframe tbody tr th:only-of-type {\n",
       "        vertical-align: middle;\n",
       "    }\n",
       "\n",
       "    .dataframe tbody tr th {\n",
       "        vertical-align: top;\n",
       "    }\n",
       "\n",
       "    .dataframe thead th {\n",
       "        text-align: right;\n",
       "    }\n",
       "</style>\n",
       "<table border=\"1\" class=\"dataframe\">\n",
       "  <thead>\n",
       "    <tr style=\"text-align: right;\">\n",
       "      <th></th>\n",
       "      <th>Age</th>\n",
       "      <th>Sex</th>\n",
       "      <th>Chest pain type</th>\n",
       "      <th>BP</th>\n",
       "      <th>Cholesterol</th>\n",
       "      <th>FBS over 120</th>\n",
       "      <th>EKG results</th>\n",
       "      <th>Max HR</th>\n",
       "      <th>Exercise angina</th>\n",
       "      <th>ST depression</th>\n",
       "      <th>Slope of ST</th>\n",
       "      <th>Number of vessels fluro</th>\n",
       "      <th>Thallium</th>\n",
       "    </tr>\n",
       "    <tr>\n",
       "      <th>Heart Disease</th>\n",
       "      <th></th>\n",
       "      <th></th>\n",
       "      <th></th>\n",
       "      <th></th>\n",
       "      <th></th>\n",
       "      <th></th>\n",
       "      <th></th>\n",
       "      <th></th>\n",
       "      <th></th>\n",
       "      <th></th>\n",
       "      <th></th>\n",
       "      <th></th>\n",
       "      <th></th>\n",
       "    </tr>\n",
       "  </thead>\n",
       "  <tbody>\n",
       "    <tr>\n",
       "      <th>0</th>\n",
       "      <td>52.706667</td>\n",
       "      <td>0.553333</td>\n",
       "      <td>2.820000</td>\n",
       "      <td>128.866667</td>\n",
       "      <td>244.213333</td>\n",
       "      <td>0.153333</td>\n",
       "      <td>0.860</td>\n",
       "      <td>158.333333</td>\n",
       "      <td>0.153333</td>\n",
       "      <td>0.622667</td>\n",
       "      <td>1.400000</td>\n",
       "      <td>0.286667</td>\n",
       "      <td>3.786667</td>\n",
       "    </tr>\n",
       "    <tr>\n",
       "      <th>1</th>\n",
       "      <td>56.591667</td>\n",
       "      <td>0.833333</td>\n",
       "      <td>3.616667</td>\n",
       "      <td>134.441667</td>\n",
       "      <td>256.466667</td>\n",
       "      <td>0.141667</td>\n",
       "      <td>1.225</td>\n",
       "      <td>138.858333</td>\n",
       "      <td>0.550000</td>\n",
       "      <td>1.584167</td>\n",
       "      <td>1.816667</td>\n",
       "      <td>1.150000</td>\n",
       "      <td>5.833333</td>\n",
       "    </tr>\n",
       "  </tbody>\n",
       "</table>\n",
       "</div>"
      ],
      "text/plain": [
       "                     Age       Sex  Chest pain type          BP  Cholesterol  \\\n",
       "Heart Disease                                                                  \n",
       "0              52.706667  0.553333         2.820000  128.866667   244.213333   \n",
       "1              56.591667  0.833333         3.616667  134.441667   256.466667   \n",
       "\n",
       "               FBS over 120  EKG results      Max HR  Exercise angina  \\\n",
       "Heart Disease                                                           \n",
       "0                  0.153333        0.860  158.333333         0.153333   \n",
       "1                  0.141667        1.225  138.858333         0.550000   \n",
       "\n",
       "               ST depression  Slope of ST  Number of vessels fluro  Thallium  \n",
       "Heart Disease                                                                 \n",
       "0                   0.622667     1.400000                 0.286667  3.786667  \n",
       "1                   1.584167     1.816667                 1.150000  5.833333  "
      ]
     },
     "execution_count": 6,
     "metadata": {},
     "output_type": "execute_result"
    }
   ],
   "source": [
    "df.groupby('Heart Disease').mean()"
   ]
  },
  {
   "cell_type": "markdown",
   "id": "7991faed",
   "metadata": {
    "papermill": {
     "duration": 0.009149,
     "end_time": "2024-06-25T14:35:34.025497",
     "exception": false,
     "start_time": "2024-06-25T14:35:34.016348",
     "status": "completed"
    },
    "tags": []
   },
   "source": [
    "***  Splitting the data into training and testing sets**\n",
    "\n",
    "***  10% of the data is used for testing, stratified by the target variable 'Y'** \n",
    "\n",
    "***  Random state is set to 1 for reproducibility**"
   ]
  },
  {
   "cell_type": "code",
   "execution_count": 7,
   "id": "7ed20c39",
   "metadata": {
    "execution": {
     "iopub.execute_input": "2024-06-25T14:35:34.046122Z",
     "iopub.status.busy": "2024-06-25T14:35:34.045337Z",
     "iopub.status.idle": "2024-06-25T14:35:35.229294Z",
     "shell.execute_reply": "2024-06-25T14:35:35.228187Z"
    },
    "papermill": {
     "duration": 1.197083,
     "end_time": "2024-06-25T14:35:35.232035",
     "exception": false,
     "start_time": "2024-06-25T14:35:34.034952",
     "status": "completed"
    },
    "tags": []
   },
   "outputs": [],
   "source": [
    "from sklearn.model_selection import train_test_split\n",
    "X_train,X_test,Y_train,Y_test=train_test_split(X,Y,test_size=0.1,stratify=Y,random_state=1)"
   ]
  },
  {
   "cell_type": "markdown",
   "id": "63feae6f",
   "metadata": {
    "papermill": {
     "duration": 0.009249,
     "end_time": "2024-06-25T14:35:35.251104",
     "exception": false,
     "start_time": "2024-06-25T14:35:35.241855",
     "status": "completed"
    },
    "tags": []
   },
   "source": [
    "**Printing the shapes of the training and testing sets**"
   ]
  },
  {
   "cell_type": "code",
   "execution_count": 8,
   "id": "c3f9857b",
   "metadata": {
    "execution": {
     "iopub.execute_input": "2024-06-25T14:35:35.272387Z",
     "iopub.status.busy": "2024-06-25T14:35:35.271580Z",
     "iopub.status.idle": "2024-06-25T14:35:35.277397Z",
     "shell.execute_reply": "2024-06-25T14:35:35.276409Z"
    },
    "papermill": {
     "duration": 0.018661,
     "end_time": "2024-06-25T14:35:35.279578",
     "exception": false,
     "start_time": "2024-06-25T14:35:35.260917",
     "status": "completed"
    },
    "tags": []
   },
   "outputs": [
    {
     "name": "stdout",
     "output_type": "stream",
     "text": [
      "(243, 13) (27, 13) (243,) (27,)\n"
     ]
    }
   ],
   "source": [
    "print(X_train.shape,X_test.shape,Y_train.shape,Y_test.shape)"
   ]
  },
  {
   "cell_type": "markdown",
   "id": "1f6eec86",
   "metadata": {
    "papermill": {
     "duration": 0.009578,
     "end_time": "2024-06-25T14:35:35.298600",
     "exception": false,
     "start_time": "2024-06-25T14:35:35.289022",
     "status": "completed"
    },
    "tags": []
   },
   "source": [
    "**Importing the LogisticRegression class from sklearn.linear_model**"
   ]
  },
  {
   "cell_type": "code",
   "execution_count": 9,
   "id": "28fc49b6",
   "metadata": {
    "execution": {
     "iopub.execute_input": "2024-06-25T14:35:35.319973Z",
     "iopub.status.busy": "2024-06-25T14:35:35.319536Z",
     "iopub.status.idle": "2024-06-25T14:35:35.407523Z",
     "shell.execute_reply": "2024-06-25T14:35:35.406442Z"
    },
    "papermill": {
     "duration": 0.101895,
     "end_time": "2024-06-25T14:35:35.410255",
     "exception": false,
     "start_time": "2024-06-25T14:35:35.308360",
     "status": "completed"
    },
    "tags": []
   },
   "outputs": [],
   "source": [
    "from sklearn.linear_model import LogisticRegression\n"
   ]
  },
  {
   "cell_type": "markdown",
   "id": "d3d62571",
   "metadata": {
    "papermill": {
     "duration": 0.009165,
     "end_time": "2024-06-25T14:35:35.429214",
     "exception": false,
     "start_time": "2024-06-25T14:35:35.420049",
     "status": "completed"
    },
    "tags": []
   },
   "source": [
    "**Creating an instance of the LogisticRegression class**"
   ]
  },
  {
   "cell_type": "code",
   "execution_count": 10,
   "id": "7c49f4ea",
   "metadata": {
    "execution": {
     "iopub.execute_input": "2024-06-25T14:35:35.450296Z",
     "iopub.status.busy": "2024-06-25T14:35:35.449502Z",
     "iopub.status.idle": "2024-06-25T14:35:35.454260Z",
     "shell.execute_reply": "2024-06-25T14:35:35.453229Z"
    },
    "papermill": {
     "duration": 0.017723,
     "end_time": "2024-06-25T14:35:35.456454",
     "exception": false,
     "start_time": "2024-06-25T14:35:35.438731",
     "status": "completed"
    },
    "tags": []
   },
   "outputs": [],
   "source": [
    "c=LogisticRegression()"
   ]
  },
  {
   "cell_type": "markdown",
   "id": "06a99fa7",
   "metadata": {
    "papermill": {
     "duration": 0.009374,
     "end_time": "2024-06-25T14:35:35.475145",
     "exception": false,
     "start_time": "2024-06-25T14:35:35.465771",
     "status": "completed"
    },
    "tags": []
   },
   "source": [
    "**Fitting the logistic regression model to the training data**"
   ]
  },
  {
   "cell_type": "code",
   "execution_count": 11,
   "id": "18911c93",
   "metadata": {
    "execution": {
     "iopub.execute_input": "2024-06-25T14:35:35.496665Z",
     "iopub.status.busy": "2024-06-25T14:35:35.495732Z",
     "iopub.status.idle": "2024-06-25T14:35:35.538171Z",
     "shell.execute_reply": "2024-06-25T14:35:35.535058Z"
    },
    "papermill": {
     "duration": 0.055465,
     "end_time": "2024-06-25T14:35:35.540484",
     "exception": false,
     "start_time": "2024-06-25T14:35:35.485019",
     "status": "completed"
    },
    "tags": []
   },
   "outputs": [
    {
     "name": "stderr",
     "output_type": "stream",
     "text": [
      "/opt/conda/lib/python3.10/site-packages/sklearn/linear_model/_logistic.py:458: ConvergenceWarning: lbfgs failed to converge (status=1):\n",
      "STOP: TOTAL NO. of ITERATIONS REACHED LIMIT.\n",
      "\n",
      "Increase the number of iterations (max_iter) or scale the data as shown in:\n",
      "    https://scikit-learn.org/stable/modules/preprocessing.html\n",
      "Please also refer to the documentation for alternative solver options:\n",
      "    https://scikit-learn.org/stable/modules/linear_model.html#logistic-regression\n",
      "  n_iter_i = _check_optimize_result(\n"
     ]
    },
    {
     "data": {
      "text/html": [
       "<style>#sk-container-id-1 {color: black;background-color: white;}#sk-container-id-1 pre{padding: 0;}#sk-container-id-1 div.sk-toggleable {background-color: white;}#sk-container-id-1 label.sk-toggleable__label {cursor: pointer;display: block;width: 100%;margin-bottom: 0;padding: 0.3em;box-sizing: border-box;text-align: center;}#sk-container-id-1 label.sk-toggleable__label-arrow:before {content: \"▸\";float: left;margin-right: 0.25em;color: #696969;}#sk-container-id-1 label.sk-toggleable__label-arrow:hover:before {color: black;}#sk-container-id-1 div.sk-estimator:hover label.sk-toggleable__label-arrow:before {color: black;}#sk-container-id-1 div.sk-toggleable__content {max-height: 0;max-width: 0;overflow: hidden;text-align: left;background-color: #f0f8ff;}#sk-container-id-1 div.sk-toggleable__content pre {margin: 0.2em;color: black;border-radius: 0.25em;background-color: #f0f8ff;}#sk-container-id-1 input.sk-toggleable__control:checked~div.sk-toggleable__content {max-height: 200px;max-width: 100%;overflow: auto;}#sk-container-id-1 input.sk-toggleable__control:checked~label.sk-toggleable__label-arrow:before {content: \"▾\";}#sk-container-id-1 div.sk-estimator input.sk-toggleable__control:checked~label.sk-toggleable__label {background-color: #d4ebff;}#sk-container-id-1 div.sk-label input.sk-toggleable__control:checked~label.sk-toggleable__label {background-color: #d4ebff;}#sk-container-id-1 input.sk-hidden--visually {border: 0;clip: rect(1px 1px 1px 1px);clip: rect(1px, 1px, 1px, 1px);height: 1px;margin: -1px;overflow: hidden;padding: 0;position: absolute;width: 1px;}#sk-container-id-1 div.sk-estimator {font-family: monospace;background-color: #f0f8ff;border: 1px dotted black;border-radius: 0.25em;box-sizing: border-box;margin-bottom: 0.5em;}#sk-container-id-1 div.sk-estimator:hover {background-color: #d4ebff;}#sk-container-id-1 div.sk-parallel-item::after {content: \"\";width: 100%;border-bottom: 1px solid gray;flex-grow: 1;}#sk-container-id-1 div.sk-label:hover label.sk-toggleable__label {background-color: #d4ebff;}#sk-container-id-1 div.sk-serial::before {content: \"\";position: absolute;border-left: 1px solid gray;box-sizing: border-box;top: 0;bottom: 0;left: 50%;z-index: 0;}#sk-container-id-1 div.sk-serial {display: flex;flex-direction: column;align-items: center;background-color: white;padding-right: 0.2em;padding-left: 0.2em;position: relative;}#sk-container-id-1 div.sk-item {position: relative;z-index: 1;}#sk-container-id-1 div.sk-parallel {display: flex;align-items: stretch;justify-content: center;background-color: white;position: relative;}#sk-container-id-1 div.sk-item::before, #sk-container-id-1 div.sk-parallel-item::before {content: \"\";position: absolute;border-left: 1px solid gray;box-sizing: border-box;top: 0;bottom: 0;left: 50%;z-index: -1;}#sk-container-id-1 div.sk-parallel-item {display: flex;flex-direction: column;z-index: 1;position: relative;background-color: white;}#sk-container-id-1 div.sk-parallel-item:first-child::after {align-self: flex-end;width: 50%;}#sk-container-id-1 div.sk-parallel-item:last-child::after {align-self: flex-start;width: 50%;}#sk-container-id-1 div.sk-parallel-item:only-child::after {width: 0;}#sk-container-id-1 div.sk-dashed-wrapped {border: 1px dashed gray;margin: 0 0.4em 0.5em 0.4em;box-sizing: border-box;padding-bottom: 0.4em;background-color: white;}#sk-container-id-1 div.sk-label label {font-family: monospace;font-weight: bold;display: inline-block;line-height: 1.2em;}#sk-container-id-1 div.sk-label-container {text-align: center;}#sk-container-id-1 div.sk-container {/* jupyter's `normalize.less` sets `[hidden] { display: none; }` but bootstrap.min.css set `[hidden] { display: none !important; }` so we also need the `!important` here to be able to override the default hidden behavior on the sphinx rendered scikit-learn.org. See: https://github.com/scikit-learn/scikit-learn/issues/21755 */display: inline-block !important;position: relative;}#sk-container-id-1 div.sk-text-repr-fallback {display: none;}</style><div id=\"sk-container-id-1\" class=\"sk-top-container\"><div class=\"sk-text-repr-fallback\"><pre>LogisticRegression()</pre><b>In a Jupyter environment, please rerun this cell to show the HTML representation or trust the notebook. <br />On GitHub, the HTML representation is unable to render, please try loading this page with nbviewer.org.</b></div><div class=\"sk-container\" hidden><div class=\"sk-item\"><div class=\"sk-estimator sk-toggleable\"><input class=\"sk-toggleable__control sk-hidden--visually\" id=\"sk-estimator-id-1\" type=\"checkbox\" checked><label for=\"sk-estimator-id-1\" class=\"sk-toggleable__label sk-toggleable__label-arrow\">LogisticRegression</label><div class=\"sk-toggleable__content\"><pre>LogisticRegression()</pre></div></div></div></div></div>"
      ],
      "text/plain": [
       "LogisticRegression()"
      ]
     },
     "execution_count": 11,
     "metadata": {},
     "output_type": "execute_result"
    }
   ],
   "source": [
    "c.fit(X_train,Y_train)"
   ]
  },
  {
   "cell_type": "markdown",
   "id": "ac9b9ee2",
   "metadata": {
    "papermill": {
     "duration": 0.009599,
     "end_time": "2024-06-25T14:35:35.560011",
     "exception": false,
     "start_time": "2024-06-25T14:35:35.550412",
     "status": "completed"
    },
    "tags": []
   },
   "source": [
    "**Importing the accuracy_score function from sklearn.metrics**"
   ]
  },
  {
   "cell_type": "code",
   "execution_count": 12,
   "id": "ad4f3322",
   "metadata": {
    "execution": {
     "iopub.execute_input": "2024-06-25T14:35:35.581660Z",
     "iopub.status.busy": "2024-06-25T14:35:35.580763Z",
     "iopub.status.idle": "2024-06-25T14:35:35.585581Z",
     "shell.execute_reply": "2024-06-25T14:35:35.584586Z"
    },
    "papermill": {
     "duration": 0.017804,
     "end_time": "2024-06-25T14:35:35.587785",
     "exception": false,
     "start_time": "2024-06-25T14:35:35.569981",
     "status": "completed"
    },
    "tags": []
   },
   "outputs": [],
   "source": [
    "from sklearn.metrics import accuracy_score"
   ]
  },
  {
   "cell_type": "code",
   "execution_count": 13,
   "id": "e59fb79d",
   "metadata": {
    "execution": {
     "iopub.execute_input": "2024-06-25T14:35:35.609671Z",
     "iopub.status.busy": "2024-06-25T14:35:35.608740Z",
     "iopub.status.idle": "2024-06-25T14:35:35.619711Z",
     "shell.execute_reply": "2024-06-25T14:35:35.618685Z"
    },
    "papermill": {
     "duration": 0.024333,
     "end_time": "2024-06-25T14:35:35.622038",
     "exception": false,
     "start_time": "2024-06-25T14:35:35.597705",
     "status": "completed"
    },
    "tags": []
   },
   "outputs": [
    {
     "data": {
      "text/plain": [
       "0.8559670781893004"
      ]
     },
     "execution_count": 13,
     "metadata": {},
     "output_type": "execute_result"
    }
   ],
   "source": [
    "prediction=c.predict(X_train)\n",
    "accuracy=accuracy_score(Y_train,prediction)\n",
    "accuracy"
   ]
  },
  {
   "cell_type": "markdown",
   "id": "d3f43049",
   "metadata": {
    "papermill": {
     "duration": 0.009729,
     "end_time": "2024-06-25T14:35:35.642048",
     "exception": false,
     "start_time": "2024-06-25T14:35:35.632319",
     "status": "completed"
    },
    "tags": []
   },
   "source": [
    "**# Making predictions on the training set**\n",
    "\n",
    "**# Calculating the accuracy score**\n",
    "\n",
    "**# Printing the accuracy score**"
   ]
  },
  {
   "cell_type": "code",
   "execution_count": 14,
   "id": "49150a21",
   "metadata": {
    "execution": {
     "iopub.execute_input": "2024-06-25T14:35:35.663879Z",
     "iopub.status.busy": "2024-06-25T14:35:35.662930Z",
     "iopub.status.idle": "2024-06-25T14:35:35.673114Z",
     "shell.execute_reply": "2024-06-25T14:35:35.672118Z"
    },
    "papermill": {
     "duration": 0.023459,
     "end_time": "2024-06-25T14:35:35.675455",
     "exception": false,
     "start_time": "2024-06-25T14:35:35.651996",
     "status": "completed"
    },
    "tags": []
   },
   "outputs": [
    {
     "data": {
      "text/plain": [
       "0.8518518518518519"
      ]
     },
     "execution_count": 14,
     "metadata": {},
     "output_type": "execute_result"
    }
   ],
   "source": [
    "prediction=c.predict(X_test)\n",
    "accuracy=accuracy_score(Y_test,prediction)\n",
    "accuracy"
   ]
  }
 ],
 "metadata": {
  "kaggle": {
   "accelerator": "none",
   "dataSources": [
    {
     "datasetId": 841679,
     "sourceId": 1436563,
     "sourceType": "datasetVersion"
    }
   ],
   "dockerImageVersionId": 30732,
   "isGpuEnabled": false,
   "isInternetEnabled": false,
   "language": "python",
   "sourceType": "notebook"
  },
  "kernelspec": {
   "display_name": "Python 3",
   "language": "python",
   "name": "python3"
  },
  "language_info": {
   "codemirror_mode": {
    "name": "ipython",
    "version": 3
   },
   "file_extension": ".py",
   "mimetype": "text/x-python",
   "name": "python",
   "nbconvert_exporter": "python",
   "pygments_lexer": "ipython3",
   "version": "3.10.13"
  },
  "papermill": {
   "default_parameters": {},
   "duration": 6.341044,
   "end_time": "2024-06-25T14:35:36.306556",
   "environment_variables": {},
   "exception": null,
   "input_path": "__notebook__.ipynb",
   "output_path": "__notebook__.ipynb",
   "parameters": {},
   "start_time": "2024-06-25T14:35:29.965512",
   "version": "2.5.0"
  }
 },
 "nbformat": 4,
 "nbformat_minor": 5
}
